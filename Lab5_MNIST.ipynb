{
  "nbformat": 4,
  "nbformat_minor": 0,
  "metadata": {
    "colab": {
      "provenance": []
    },
    "kernelspec": {
      "name": "python3",
      "display_name": "Python 3"
    },
    "language_info": {
      "name": "python"
    },
    "accelerator": "GPU",
    "gpuClass": "standard"
  },
  "cells": [
    {
      "cell_type": "code",
      "execution_count": 47,
      "metadata": {
        "colab": {
          "base_uri": "https://localhost:8080/"
        },
        "id": "3T89ahgGEs4j",
        "outputId": "8c53e8d0-7e60-4f8b-a113-e951f14c89c0"
      },
      "outputs": [
        {
          "output_type": "stream",
          "name": "stdout",
          "text": [
            "Drive already mounted at /content/gdrive; to attempt to forcibly remount, call drive.mount(\"/content/gdrive\", force_remount=True).\n"
          ]
        }
      ],
      "source": [
        "from google.colab import drive\n",
        "drive.mount('/content/gdrive')"
      ]
    },
    {
      "cell_type": "markdown",
      "source": [
        "# Import Dependencies"
      ],
      "metadata": {
        "id": "hqQcbFXKiQFy"
      }
    },
    {
      "cell_type": "code",
      "source": [
        "import torch\n",
        "import torch.nn as nn # Deep Learning Network 기본 구성 요소를 포함한 torch.nn 모듈을 nn으로 지정 \n",
        "import torch.nn.functional as F # torch.nn.functional 을 F 로 지정\n",
        "import torch.optim as optim \n",
        "import torchvision.datasets as dsets\n",
        "import torchvision.transforms as transforms\n",
        "from torch.autograd import Variable\n",
        "\n",
        "from matplotlib import pyplot as plt # Data 시각화를 돕는 matplotlib 모듈 \n",
        "%matplotlib inline  \n",
        "\n",
        "from google.colab.patches import cv2_imshow\n"
      ],
      "metadata": {
        "id": "nAa70ucnFqxd"
      },
      "execution_count": 48,
      "outputs": []
    },
    {
      "cell_type": "markdown",
      "source": [
        "# Device Definition "
      ],
      "metadata": {
        "id": "iVhjkULhnYcS"
      }
    },
    {
      "cell_type": "code",
      "source": [
        "use_cuda = torch.cuda.is_available() \n",
        "device = torch.device(\"cuda\" if use_cuda else \"cpu\")"
      ],
      "metadata": {
        "id": "TwYcwLl3ncfz"
      },
      "execution_count": 49,
      "outputs": []
    },
    {
      "cell_type": "markdown",
      "source": [
        "# Define Hyperparameters"
      ],
      "metadata": {
        "id": "P5e6ul2giXgY"
      }
    },
    {
      "cell_type": "code",
      "source": [
        "input_size = 784 # img_size = (28,28) ---> 28 x 28 = 784 in total\n",
        "hidden_size = 500 # number of nodes at hidden layer\n",
        "num_classes = 10 # number of output classes discrete range [0,9]\n",
        "num_epochs = 20 # number of times which the entire dataset is passed throughout the model\n",
        "batch_size = 50 # the size of input data took for one iteration \"= mini batch size\" \n",
        "lr = 1e-3 # size of step "
      ],
      "metadata": {
        "id": "YNxnYsdGiVCf"
      },
      "execution_count": 50,
      "outputs": []
    },
    {
      "cell_type": "markdown",
      "source": [
        "# Downloading MNIST data"
      ],
      "metadata": {
        "id": "l1HdTz8SjLGD"
      }
    },
    {
      "cell_type": "code",
      "source": [
        "train_data = dsets.MNIST(root = './data', train = True,\n",
        "                        transform = transforms.ToTensor(), download = True)\n",
        "\n",
        "test_data = dsets.MNIST(root = './data', train = False,\n",
        "                       transform = transforms.ToTensor())\n",
        "\n",
        "print('number of training data : ',len(train_data))\n",
        "print('number of test data : ',len(test_data))\n"
      ],
      "metadata": {
        "colab": {
          "base_uri": "https://localhost:8080/"
        },
        "id": "HdID9q6yjKs7",
        "outputId": "ea04bcfb-ac3c-4b9f-a555-04411933e5f8"
      },
      "execution_count": 51,
      "outputs": [
        {
          "output_type": "stream",
          "name": "stdout",
          "text": [
            "number of training data :  60000\n",
            "number of test data :  10000\n"
          ]
        }
      ]
    },
    {
      "cell_type": "markdown",
      "source": [
        "# MNIST Data Check"
      ],
      "metadata": {
        "id": "fFhqEZ4Qot85"
      }
    },
    {
      "cell_type": "code",
      "source": [
        "image, label = train_data[0]\n",
        "\n",
        "plt.imshow(image.squeeze().numpy(), cmap = 'gray')\n",
        "plt.title('label : %s' % label)\n",
        "plt.imshow"
      ],
      "metadata": {
        "colab": {
          "base_uri": "https://localhost:8080/",
          "height": 488
        },
        "id": "T8wHYZ4BowvT",
        "outputId": "17f67b23-fdcd-41a2-d021-098d4168642c"
      },
      "execution_count": 52,
      "outputs": [
        {
          "output_type": "execute_result",
          "data": {
            "text/plain": [
              "<function matplotlib.pyplot.imshow(X, cmap=None, norm=None, *, aspect=None, interpolation=None, alpha=None, vmin=None, vmax=None, origin=None, extent=None, interpolation_stage=None, filternorm=True, filterrad=4.0, resample=None, url=None, data=None, **kwargs)>"
            ]
          },
          "metadata": {},
          "execution_count": 52
        },
        {
          "output_type": "display_data",
          "data": {
            "text/plain": [
              "<Figure size 640x480 with 1 Axes>"
            ],
            "image/png": "[encoded data removed]"
          },
          "metadata": {}
        }
      ]
    },
    {
      "cell_type": "markdown",
      "source": [
        "# Loading the data"
      ],
      "metadata": {
        "id": "LPtYw3gbjdr8"
      }
    },
    {
      "cell_type": "code",
      "source": [
        "train_gen = torch.utils.data.DataLoader(dataset = train_data,\n",
        "                                             batch_size = batch_size,\n",
        "                                             shuffle = True)\n",
        "\n",
        "test_gen = torch.utils.data.DataLoader(dataset = test_data,\n",
        "                                      batch_size = batch_size, \n",
        "                                      shuffle = False)"
      ],
      "metadata": {
        "id": "Fl8N-OaXjbTp"
      },
      "execution_count": 53,
      "outputs": []
    },
    {
      "cell_type": "markdown",
      "source": [
        "# Define model class"
      ],
      "metadata": {
        "id": "DucjpyqijqZ1"
      }
    },
    {
      "cell_type": "code",
      "source": [
        "class MyLeNet5_1 (nn.Module): \n",
        "  def __init__(self): \n",
        "    super(MyLeNet5_1, self).__init__()\n",
        "    self.conv_1 = nn.Conv2d(1, 6, kernel_size = 5, padding = 2)\n",
        "    self.maxpool_1 = nn.MaxPool2d(kernel_size=(2,2), stride = 2)\n",
        "    self.conv_2 = nn.Conv2d(6, 16, kernel_size = 5)\n",
        "    self.maxpool_2 = nn.MaxPool2d(kernel_size=(2,2), stride = 2)\n",
        "    self.conv_3 = nn.Conv2d(16, 120, kernel_size = 5)\n",
        "    self.relu = nn.ReLU()\n",
        "    self.fc_1 = nn.Linear(120, 84)\n",
        "    self.fc_2 = nn.Linear(84, 10)\n",
        "\n",
        "  def forward(self, x):\n",
        "    x = self.conv_1(x)\n",
        "    x = self.relu(x)\n",
        "    x = self.maxpool_1(x)\n",
        "    x = self.conv_2(x)\n",
        "    x = self.relu(x)\n",
        "    x = self.maxpool_2(x)\n",
        "    x = self.conv_3(x)\n",
        "    x = x.view(-1, 120) \n",
        "    x = self.fc_1(x)\n",
        "    x = self.relu(x)\n",
        "    res = self.fc_2(x)\n",
        "    return res \n",
        "\n",
        "model1 = MyLeNet5_1()\n",
        "print(model1)"
      ],
      "metadata": {
        "colab": {
          "base_uri": "https://localhost:8080/"
        },
        "id": "OhknPC7OjhZZ",
        "outputId": "14150fa7-67f7-4634-a987-60e739e3a4a8"
      },
      "execution_count": 54,
      "outputs": [
        {
          "output_type": "stream",
          "name": "stdout",
          "text": [
            "MyLeNet5_1(\n",
            "  (conv_1): Conv2d(1, 6, kernel_size=(5, 5), stride=(1, 1), padding=(2, 2))\n",
            "  (maxpool_1): MaxPool2d(kernel_size=(2, 2), stride=2, padding=0, dilation=1, ceil_mode=False)\n",
            "  (conv_2): Conv2d(6, 16, kernel_size=(5, 5), stride=(1, 1))\n",
            "  (maxpool_2): MaxPool2d(kernel_size=(2, 2), stride=2, padding=0, dilation=1, ceil_mode=False)\n",
            "  (conv_3): Conv2d(16, 120, kernel_size=(5, 5), stride=(1, 1))\n",
            "  (relu): ReLU()\n",
            "  (fc_1): Linear(in_features=120, out_features=84, bias=True)\n",
            "  (fc_2): Linear(in_features=84, out_features=10, bias=True)\n",
            ")\n"
          ]
        }
      ]
    },
    {
      "cell_type": "code",
      "source": [
        "class MyLeNet5_2(nn.Module): \n",
        "  def __init__(self):\n",
        "    super(MyLeNet5_2, self).__init__() \n",
        "    self.conv_layers = nn.Sequential(\n",
        "      nn.Conv2d(1, 6, kernel_size=5, padding=2), nn.MaxPool2d(2),\n",
        "      nn.ReLU(),\n",
        "      nn.Conv2d(6, 16, kernel_size=5), nn.Dropout(),\n",
        "      nn.MaxPool2d(2),\n",
        "      nn.ReLU(),\n",
        "      nn.Conv2d(16, 120, kernel_size=5) \n",
        "      )\n",
        "    self.fc_layers = nn.Sequential( nn.Linear(120, 84), nn.ReLU(),\n",
        "      nn.Linear(84, 10)\n",
        "      )\n",
        "  def forward(self, x):\n",
        "    x = self.conv_layers(x)\n",
        "    x = x.view(-1, 120) # flatten \n",
        "    x = self.fc_layers(x)\n",
        "    return x\n",
        "model = MyLeNet5_2() \n",
        "print(model)"
      ],
      "metadata": {
        "colab": {
          "base_uri": "https://localhost:8080/"
        },
        "id": "0ukzsLTyu5fr",
        "outputId": "7d9613fa-f3b6-42b1-9492-cb01ecef3c02"
      },
      "execution_count": 55,
      "outputs": [
        {
          "output_type": "stream",
          "name": "stdout",
          "text": [
            "MyLeNet5_2(\n",
            "  (conv_layers): Sequential(\n",
            "    (0): Conv2d(1, 6, kernel_size=(5, 5), stride=(1, 1), padding=(2, 2))\n",
            "    (1): MaxPool2d(kernel_size=2, stride=2, padding=0, dilation=1, ceil_mode=False)\n",
            "    (2): ReLU()\n",
            "    (3): Conv2d(6, 16, kernel_size=(5, 5), stride=(1, 1))\n",
            "    (4): Dropout(p=0.5, inplace=False)\n",
            "    (5): MaxPool2d(kernel_size=2, stride=2, padding=0, dilation=1, ceil_mode=False)\n",
            "    (6): ReLU()\n",
            "    (7): Conv2d(16, 120, kernel_size=(5, 5), stride=(1, 1))\n",
            "  )\n",
            "  (fc_layers): Sequential(\n",
            "    (0): Linear(in_features=120, out_features=84, bias=True)\n",
            "    (1): ReLU()\n",
            "    (2): Linear(in_features=84, out_features=10, bias=True)\n",
            "  )\n",
            ")\n"
          ]
        }
      ]
    },
    {
      "cell_type": "markdown",
      "source": [
        "# Define Loss Function & Optimizer"
      ],
      "metadata": {
        "id": "h8PKvFPxu73G"
      }
    },
    {
      "cell_type": "code",
      "source": [
        "loss_function = nn.CrossEntropyLoss()\n",
        "optimizer = torch.optim.Adam(model.parameters(), lr=lr)"
      ],
      "metadata": {
        "id": "Kxh7gIRWvCBl"
      },
      "execution_count": 56,
      "outputs": []
    },
    {
      "cell_type": "markdown",
      "source": [
        "# Training the Model 1"
      ],
      "metadata": {
        "id": "rxM4DzoNuy05"
      }
    },
    {
      "cell_type": "code",
      "source": [
        "model1.train()\n",
        "model = model1.to(device)\n",
        "i = 0 # Loss Function 현황을 확인하고자, 학습 횟수를 나타내는 보조 index 지정\n",
        "\n",
        "for epoch in range(num_epochs):\n",
        "  for data, target in train_gen:\n",
        "    data = data.to(device) \n",
        "    target = target.to(device)\n",
        "    optimizer.zero_grad() # optimizer gradient 초기화 \n",
        "    output = model(data)\n",
        "    loss = loss_function(output, target)\n",
        "    loss.backward() \n",
        "    optimizer.step()\n",
        "\n",
        "    if i % 1000 == 0:\n",
        "      print('Train Step: {}\\tloss: {:.3f}'.format(i, loss.item()))\n",
        "    i +=1\n",
        "\n"
      ],
      "metadata": {
        "colab": {
          "base_uri": "https://localhost:8080/"
        },
        "id": "lTkSBYrStLF4",
        "outputId": "5325c4cf-cde7-42f8-d527-b7bcd5385ad2"
      },
      "execution_count": 57,
      "outputs": [
        {
          "output_type": "stream",
          "name": "stdout",
          "text": [
            "Train Step: 0\tloss: 2.306\n",
            "Train Step: 1000\tloss: 2.307\n",
            "Train Step: 2000\tloss: 2.309\n",
            "Train Step: 3000\tloss: 2.317\n",
            "Train Step: 4000\tloss: 2.296\n",
            "Train Step: 5000\tloss: 2.296\n",
            "Train Step: 6000\tloss: 2.303\n",
            "Train Step: 7000\tloss: 2.313\n",
            "Train Step: 8000\tloss: 2.299\n",
            "Train Step: 9000\tloss: 2.300\n",
            "Train Step: 10000\tloss: 2.315\n",
            "Train Step: 11000\tloss: 2.296\n",
            "Train Step: 12000\tloss: 2.314\n",
            "Train Step: 13000\tloss: 2.303\n",
            "Train Step: 14000\tloss: 2.300\n",
            "Train Step: 15000\tloss: 2.298\n",
            "Train Step: 16000\tloss: 2.301\n",
            "Train Step: 17000\tloss: 2.300\n",
            "Train Step: 18000\tloss: 2.315\n",
            "Train Step: 19000\tloss: 2.299\n",
            "Train Step: 20000\tloss: 2.307\n",
            "Train Step: 21000\tloss: 2.297\n",
            "Train Step: 22000\tloss: 2.312\n",
            "Train Step: 23000\tloss: 2.319\n"
          ]
        }
      ]
    },
    {
      "cell_type": "markdown",
      "source": [
        "# Model Evaluation"
      ],
      "metadata": {
        "id": "6ldWI23e0JO9"
      }
    },
    {
      "cell_type": "code",
      "source": [
        "model.eval()\n",
        "model = model.to(device)\n",
        "correct = 0 # 정답 개수 저장 및 확인 \n",
        "\n",
        "for data, target in test_gen:\n",
        "  data = data.to(device)\n",
        "  target = target.to(device)\n",
        "  output = model(data)\n",
        "  prediction = output.data.max(1)[1] # Softmax 값이 가장 큰 index를 예측\n",
        "  correct += prediction.eq(target.data).sum()\n",
        "\n",
        "print('Test set: Accuracy: {:.2f}%'.format(100 * correct / len(test_gen.dataset)))\n"
      ],
      "metadata": {
        "colab": {
          "base_uri": "https://localhost:8080/"
        },
        "id": "Ud_28GavyYKr",
        "outputId": "1d84b435-6e78-4676-eccb-b45b429fd24b"
      },
      "execution_count": 58,
      "outputs": [
        {
          "output_type": "stream",
          "name": "stdout",
          "text": [
            "Test set: Accuracy: 9.82%\n"
          ]
        }
      ]
    },
    {
      "cell_type": "markdown",
      "source": [
        "# Visualization"
      ],
      "metadata": {
        "id": "fK6xWqCG6DPA"
      }
    },
    {
      "cell_type": "code",
      "source": [
        "class_names = train_data.classes\n",
        "class_names"
      ],
      "metadata": {
        "colab": {
          "base_uri": "https://localhost:8080/"
        },
        "id": "cOztoOpF5nPr",
        "outputId": "13c703d3-1e73-4bc3-e5a6-5de10db7b8fd"
      },
      "execution_count": 59,
      "outputs": [
        {
          "output_type": "execute_result",
          "data": {
            "text/plain": [
              "['0 - zero',\n",
              " '1 - one',\n",
              " '2 - two',\n",
              " '3 - three',\n",
              " '4 - four',\n",
              " '5 - five',\n",
              " '6 - six',\n",
              " '7 - seven',\n",
              " '8 - eight',\n",
              " '9 - nine']"
            ]
          },
          "metadata": {},
          "execution_count": 59
        }
      ]
    },
    {
      "cell_type": "code",
      "source": [
        "image, label = test_data[0]\n",
        "\n",
        "# See random images with their labels\n",
        "torch.manual_seed(42)  # setting random seed\n",
        "import matplotlib.pyplot as plt\n",
        "%matplotlib inline\n",
        "fig = plt.figure(figsize=(12, 4))\n",
        "\n",
        "rows, cols = 6, 6\n",
        "for i in range(1, (rows * cols) + 1):\n",
        "    random_idx = torch.randint(0, len(test_data), size=[1]).item()\n",
        "    img, label_gt = test_data[random_idx]\n",
        "    img_temp = img.unsqueeze(dim=0).to(device)\n",
        "    # print(img.shape)\n",
        "    label_pred = torch.argmax(model(img_temp))\n",
        "    fig.add_subplot(rows, cols, i)\n",
        "    img = img.permute(1, 2, 0)    # CWH --> WHC\n",
        "    plt.imshow(img, cmap='gray')\n",
        "    if label_pred == label_gt:\n",
        "        plt.title(class_names[label_pred], color='g') # for correct prediction\n",
        "    else:\n",
        "        plt.title(class_names[label_pred], color='r') # for incorrect prediction\n",
        "    plt.axis(False)\n",
        "    plt.tight_layout();"
      ],
      "metadata": {
        "colab": {
          "base_uri": "https://localhost:8080/",
          "height": 407
        },
        "id": "fRJUlP-i1LBL",
        "outputId": "0e654820-aa7b-425a-8550-39c5e9015b0c"
      },
      "execution_count": 60,
      "outputs": [
        {
          "output_type": "display_data",
          "data": {
            "text/plain": [
              "<Figure size 1200x400 with 36 Axes>"
            ],
            "image/png": "[encoded data removed]"
          },
          "metadata": {}
        }
      ]
    }
  ]
}